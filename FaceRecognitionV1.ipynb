{
 "cells": [
  {
   "cell_type": "code",
   "execution_count": null,
   "metadata": {
    "scrolled": true
   },
   "outputs": [],
   "source": [
    "from keras.models import Sequential\n",
    "from keras.layers import Conv2D, ZeroPadding2D, Activation, Input, concatenate\n",
    "from keras.models import Model\n",
    "from keras.layers.normalization import BatchNormalization\n",
    "from keras.layers.pooling import MaxPooling2D, AveragePooling2D\n",
    "from keras.layers.merge import Concatenate\n",
    "from keras.layers.core import Lambda, Flatten, Dense\n",
    "from keras.initializers import glorot_uniform\n",
    "from keras.engine.topology import Layer\n",
    "from keras import backend as K\n",
    "K.set_image_data_format('channels_first')\n",
    "import cv2   #opencv\n",
    "import os\n",
    "import sys\n",
    "import numpy as np\n",
    "from numpy import genfromtxt\n",
    "import pandas as pd\n",
    "import tensorflow as tf\n",
    "from fr_utils import *\n",
    "from inception_blocks_v2 import *\n",
    "from PIL import Image\n",
    "import wx\n",
    "import wx.lib.filebrowsebutton\n",
    "\n",
    "%matplotlib inline\n",
    "%load_ext autoreload\n",
    "%autoreload 2\n",
    "\n",
    "np.set_printoptions(threshold=sys.maxsize)"
   ]
  },
  {
   "cell_type": "code",
   "execution_count": null,
   "metadata": {},
   "outputs": [],
   "source": [
    "FRmodel = faceRecoModel(input_shape=(3, 96, 96))"
   ]
  },
  {
   "cell_type": "code",
   "execution_count": null,
   "metadata": {},
   "outputs": [],
   "source": [
    "print(\"Total Params:\", FRmodel.count_params())"
   ]
  },
  {
   "cell_type": "code",
   "execution_count": null,
   "metadata": {},
   "outputs": [],
   "source": [
    "def triplet_loss(y_true, y_pred, alpha = 0.2):\n",
    "    \"\"\"\n",
    "    Implementation of the triplet loss as defined by formula\n",
    "    \n",
    "    Arguments:\n",
    "    y_true -- true labels, required when you define a loss in Keras, you don't need it in this function.\n",
    "    y_pred -- python list containing three objects:\n",
    "            anchor -- the encodings for the anchor images, of shape (None, 128)\n",
    "            positive -- the encodings for the positive images, of shape (None, 128)\n",
    "            negative -- the encodings for the negative images, of shape (None, 128)\n",
    "    \n",
    "    Returns:\n",
    "    loss -- real number, value of the loss\n",
    "    \"\"\"\n",
    "    \n",
    "    anchor, positive, negative = y_pred[0], y_pred[1], y_pred[2]\n",
    "\n",
    "    pos_dist = tf.reduce_sum(tf.square(tf.subtract(anchor, positive)), axis = -1)\n",
    "\n",
    "    neg_dist = tf.reduce_sum(tf.square(tf.subtract(anchor, negative)), axis = -1)\n",
    "\n",
    "    basic_loss = tf.add(tf.subtract(pos_dist, neg_dist), alpha)\n",
    "\n",
    "    loss = tf.reduce_sum(tf.maximum(basic_loss, 0))\n",
    "\n",
    "    \n",
    "    return loss"
   ]
  },
  {
   "cell_type": "code",
   "execution_count": null,
   "metadata": {},
   "outputs": [],
   "source": [
    "with tf.Session() as test:\n",
    "    tf.set_random_seed(1)\n",
    "    y_true = (None, None, None)\n",
    "    y_pred = (tf.random_normal([3, 128], mean=6, stddev=0.1, seed = 1),\n",
    "              tf.random_normal([3, 128], mean=1, stddev=1, seed = 1),\n",
    "              tf.random_normal([3, 128], mean=3, stddev=4, seed = 1))\n",
    "    loss = triplet_loss(y_true, y_pred)\n",
    "    \n",
    "    print(\"loss = \" + str(loss.eval()))"
   ]
  },
  {
   "cell_type": "code",
   "execution_count": null,
   "metadata": {},
   "outputs": [],
   "source": [
    "FRmodel.compile(optimizer = 'adam', loss = triplet_loss, metrics = ['accuracy'])\n",
    "load_weights_from_FaceNet(FRmodel)"
   ]
  },
  {
   "cell_type": "code",
   "execution_count": null,
   "metadata": {},
   "outputs": [],
   "source": [
    "database = {}\n",
    "database[\"Neha\"] = img_to_encoding(\"images/crop/neha1.jpg\", FRmodel)\n",
    "database[\"Kalu\"] = img_to_encoding(\"images/crop/kalu1.jpg\", FRmodel)\n",
    "database[\"Suds\"] = img_to_encoding(\"images/crop/suds1.jpg\", FRmodel)"
   ]
  },
  {
   "cell_type": "code",
   "execution_count": null,
   "metadata": {},
   "outputs": [],
   "source": [
    "def who_is_it(image_path, database, model):\n",
    "    \"\"\"\n",
    "    Implements face recognition by finding who is the person on the image_path image.\n",
    "    \n",
    "    Arguments:\n",
    "    image_path -- path to an image\n",
    "    database -- database containing image encodings along with the name of the person on the image\n",
    "    model -- your Inception model instance in Keras\n",
    "    \n",
    "    Returns:\n",
    "    min_dist -- the minimum distance between image_path encoding and the encodings from the database\n",
    "    identity -- string, the name prediction for the person on image_path\n",
    "    \"\"\"\n",
    "\n",
    "    \n",
    "    encoding = img_to_encoding(image_path, model)\n",
    "    min_dist = 100\n",
    "    for (name, db_enc) in database.items():\n",
    "        dist = np.linalg.norm(encoding - db_enc)\n",
    "        if dist < min_dist:\n",
    "            min_dist = dist\n",
    "            identity = name\n",
    "\n",
    "    if min_dist > 0.65:\n",
    "        return(\"Not in the database.\")\n",
    "    else:\n",
    "        return(\"It's \" + str(identity)) #+ \", the distance is \" + str(min_dist))\n",
    "\n",
    "        \n",
    "  #  return min_dist, identity"
   ]
  },
  {
   "cell_type": "code",
   "execution_count": null,
   "metadata": {},
   "outputs": [],
   "source": [
    "who_is_it(\"images/crop/neha2.jpg\", database, FRmodel)"
   ]
  },
  {
   "cell_type": "code",
   "execution_count": null,
   "metadata": {},
   "outputs": [],
   "source": [
    "for key,value in database.items() :\n",
    "    print (key)"
   ]
  },
  {
   "cell_type": "code",
   "execution_count": null,
   "metadata": {},
   "outputs": [],
   "source": [
    "# Crop Images\n",
    "!autocrop -i images\\pics -o images\\crop -r images\\reject -H 96 -w 96"
   ]
  },
  {
   "cell_type": "code",
   "execution_count": null,
   "metadata": {},
   "outputs": [],
   "source": [
    "class MyFrame(wx.Frame):    \n",
    "        \n",
    "    def on_show(self, event):\n",
    "        path = str(self.fbb.GetValue())\n",
    "        img  = Image.open(path)\n",
    "        img.show()\n",
    "        \n",
    "    def get_list(self):\n",
    "        text = \"Verified List: \"\n",
    "        for key,value in database.items() :\n",
    "            text += str(key) + \", \"\n",
    "        return text\n",
    "    \n",
    "    def on_add(self, event):\n",
    "        path = str(self.addtodict.GetValue())\n",
    "        dlg = wx.TextEntryDialog(self.panel, 'Enter Name:',\"Add New Entry\",\"\", \n",
    "                style=wx.OK)\n",
    "        dlg.ShowModal()\n",
    "        name_val = str(dlg.GetValue())\n",
    "        database[name_val] = img_to_encoding(path, FRmodel)\n",
    "        text = self.get_list()\n",
    "        self.label_list.SetLabel(text)\n",
    "        \n",
    "    def on_perform(self, event):\n",
    "        path = str(self.fbb.GetValue())\n",
    "        output = who_is_it(path, database, FRmodel)\n",
    "        wx.MessageBox(output, \"Result\" ,wx.OK | wx.ICON_INFORMATION)\n",
    "            \n",
    "    def __init__(self):\n",
    "        super().__init__(parent=None, title='Face Recognition', size = (600,480))\n",
    "        self.panel = wx.Panel(self)        \n",
    "        self.Bind(wx.EVT_CLOSE, self.OnCloseWindow)\n",
    "        my_sizer = wx.BoxSizer(wx.VERTICAL)    \n",
    "        \n",
    "        self.addtodict = wx.lib.filebrowsebutton.FileBrowseButton(self.panel,\n",
    "            labelText=\"Select new Entry (Should be 96x96 img):\", fileMask=\"*.jpg\")\n",
    "        my_sizer.Add(self.addtodict, 0, wx.ALL | wx.CENTER, 10)\n",
    "        \n",
    "        btn1 = wx.Button(self.panel, label='Add to Database')\n",
    "        btn1.Bind(wx.EVT_BUTTON, self.on_add)\n",
    "        my_sizer.Add(btn1, 0, wx.ALL | wx.CENTER, 5) \n",
    "        \n",
    "        self.label_list = wx.StaticText(self.panel,-1,style = wx.ALIGN_CENTER)\n",
    "        text = self.get_list()\n",
    "        \n",
    "        self.label_list.SetLabel(text)\n",
    "        my_sizer.Add(self.label_list, 0, wx.ALL | wx.EXPAND, 50)\n",
    "        \n",
    "        self.fbb = wx.lib.filebrowsebutton.FileBrowseButton(self.panel,\n",
    "            labelText=\"Select image to test:\", fileMask=\"*.jpg\")\n",
    "        my_sizer.Add(self.fbb, 0, wx.ALL | wx.CENTER, 10)\n",
    "        \n",
    "        label_drop = wx.StaticText(self.panel,-1,style = wx.ALIGN_CENTER)\n",
    "        text = \"Available Operations\"\n",
    "        label_drop.SetLabel(text)\n",
    "        my_sizer.Add(label_drop, 0, wx.ALL | wx.EXPAND, 10)\n",
    "        \n",
    "        \n",
    "        btn2 = wx.Button(self.panel, label='Show Image')\n",
    "        btn2.Bind(wx.EVT_BUTTON, self.on_show)\n",
    "        my_sizer.Add(btn2, 0, wx.ALL | wx.CENTER, 5) \n",
    "        \n",
    "        btn3 = wx.Button(self.panel, label='Perform Test')\n",
    "        btn3.Bind(wx.EVT_BUTTON, self.on_perform)\n",
    "        my_sizer.Add(btn3, 0, wx.ALL | wx.CENTER, 5) \n",
    "        \n",
    "        self.label_output = wx.StaticText(self.panel,-1,style = wx.ALIGN_CENTER)\n",
    "        my_sizer.Add(self.label_output, 0, wx.ALL | wx.EXPAND, 10)\n",
    "        \n",
    "        self.panel.SetSizer(my_sizer)        \n",
    "        self.Show()\n",
    "        \n",
    "    def OnCloseWindow(self, e):\n",
    "        self.Destroy()"
   ]
  },
  {
   "cell_type": "code",
   "execution_count": null,
   "metadata": {},
   "outputs": [],
   "source": [
    "app = wx.App()\n",
    "frame = MyFrame()\n",
    "app.MainLoop()"
   ]
  },
  {
   "cell_type": "code",
   "execution_count": null,
   "metadata": {},
   "outputs": [],
   "source": [
    "# Run this Cell when \"wx.App object must be created first!\" Error Appears\n",
    "del app"
   ]
  },
  {
   "cell_type": "code",
   "execution_count": null,
   "metadata": {},
   "outputs": [],
   "source": []
  },
  {
   "cell_type": "code",
   "execution_count": null,
   "metadata": {},
   "outputs": [],
   "source": []
  },
  {
   "cell_type": "code",
   "execution_count": null,
   "metadata": {},
   "outputs": [],
   "source": []
  },
  {
   "cell_type": "code",
   "execution_count": null,
   "metadata": {},
   "outputs": [],
   "source": []
  },
  {
   "cell_type": "code",
   "execution_count": null,
   "metadata": {},
   "outputs": [],
   "source": []
  },
  {
   "cell_type": "code",
   "execution_count": null,
   "metadata": {},
   "outputs": [],
   "source": []
  },
  {
   "cell_type": "code",
   "execution_count": null,
   "metadata": {},
   "outputs": [],
   "source": []
  }
 ],
 "metadata": {
  "kernelspec": {
   "display_name": "Python 3",
   "language": "python",
   "name": "python3"
  },
  "language_info": {
   "codemirror_mode": {
    "name": "ipython",
    "version": 3
   },
   "file_extension": ".py",
   "mimetype": "text/x-python",
   "name": "python",
   "nbconvert_exporter": "python",
   "pygments_lexer": "ipython3",
   "version": "3.7.5"
  }
 },
 "nbformat": 4,
 "nbformat_minor": 2
}
